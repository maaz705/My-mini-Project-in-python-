

{
 "cells": [
  {
   "cell_type": "markdown",
   "id": "214ecaa7",
   "metadata": {},
   "source": [
    "# Hostel/Flat Rent Calculation"
   ]
  },
  {
   "cell_type": "code",
   "execution_count": null,
   "id": "b1f1c2d3",
   "metadata": {},
   "outputs": [],
   "source": [
    "# Get user inputs and convert to integers\n",
    "rent = int(input(\"Enter your hostel/flat rent = \"))\n",
    "food = int(input(\"Enter the amount of food ordered = \"))\n",
    "electricity_spend = int(input(\"Enter your total electricity spend = \"))\n",
    "charge_per_unit = int(input(\"Enter the charge per unit = \"))\n",
    "persons = int(input(\"Enter the number of persons living in the room/flat = \"))\n",
    "\n",
    "# Calculate the total bill\n",
    "total_bill = electricity_spend * charge_per_unit\n",
    "\n",
    "# Calculate the output per person\n",
    "output = (food + rent + total_bill) // persons\n",
    "\n",
    "# Print the output with two decimal places\n",
    "print(f\"Each person will pay {output:.2f}\")\n"
   ]
  }
 ],
 "metadata": {
  "kernelspec": {
   "display_name": "Python 3",
   "language": "python",
   "name": "python3"
  },
  "language_info": {
   "codemirror_mode": {
    "name": "ipython",
    "version": 3
   },
   "file_extension": ".py",
   "mimetype": "text/x-python",
   "name": "python",
   "nbconvert_exporter": "python",
   "pygments_lexer": "ipython3",
   "version": "3.8.5"
  }
 },
 "nbformat": 4,
 "nbformat_minor": 5
}
