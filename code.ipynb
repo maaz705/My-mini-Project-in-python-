{
 "cells": [
  {
   "cell_type": "markdown",
   "metadata": {},
   "source": [
    "# Game (Rock, Paper, Scissor)\n",
    "\n",
    "Yeh ek simple game hai jahan aap aur computer ke choices ko compare karke winner decide hota hai."
   ]
  },
  {
   "cell_type": "code",
   "metadata": {},
   "execution_count": null,
   "outputs": [],
   "source": [
    "import random\n",
    "\n",
    "item_list = [\"Rock\", \"Paper\", \"Scissor\"]\n",
    "\n",
    "# Commit 1: Initialize variables\n",
    "user_choice = input(\"Enter your move (Rock, Paper, Scissor): \")\n",
    "user_choice = user_choice.capitalize()\n",
    "comp_choice = random.choice(item_list)\n",
    "\n",
    "# Commit 2: Display choices\n",
    "print(f\"User choice = {user_choice}, Computer choice = {comp_choice}\")\n",
    "\n",
    "# Commit 3: Handle tie\n",
    "if user_choice == comp_choice:\n",
    "    print(\"Both choices are the same = Match tie\")\n",
    "\n",
    "# Commit 4: Handle Rock\n",
    "elif user_choice == \"Rock\":\n",
    "    if comp_choice == \"Paper\":\n",
    "        print(\"Paper covers Rock = Computer wins\")\n",
    "    else:\n",
    "        print(\"Rock smashes Scissor = You win\")\n",
    "\n",
    "# Commit 5: Handle Paper\n",
    "elif user_choice == \"Paper\":\n",
    "    if comp_choice == \"Scissor\":\n",
    "        print(\"Scissor cuts Paper = Computer wins\")\n",
    "    else:\n",
    "        print(\"Paper covers Rock = You win\")\n",
    "\n",
    "# Commit 6: Handle Scissor\n",
    "elif user_choice == \"Scissor\":\n",
    "    if comp_choice == \"Paper\":\n",
    "        print(\"Scissor cuts Paper = You win\")\n",
    "    else:\n",
    "        print(\"Rock smashes Scissor = Computer wins\")\n",
    "\n",
    "# Commit 7: Handle invalid input\n",
    "else:\n",
    "    print(\"Invalid choice! Please choose Rock, Paper, or Scissor.\")\n"
   ]
  },
  {
   "cell_type": "markdown",
   "metadata": {},
   "source": [
    "---\n"
   ]
  },
  {
   "cell_type": "markdown",
   "metadata": {},
   "source": [
    "#### If you need to understand this code and determine what has happened and how it has occurred."
   ]
  },
  {
   "cell_type": "markdown",
   "metadata": {},
   "source": [
    "[to watch this video on youtube ](https://www.youtube.com/watch?v=OvsoAMA_P00&list=PL3JNM3ENFH-5r3mRfuIbXLRCvtNK0FhmU&index=3)"
   ]
  }
 ],
 "metadata": {},
 "nbformat": 4,
 "nbformat_minor": 4
}
